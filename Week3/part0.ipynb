{
 "cells": [
  {
   "cell_type": "markdown",
   "metadata": {
    "deletable": false,
    "editable": false,
    "nbgrader": {
     "grade": false,
     "grade_id": "cell-7850c17f2b74b4f8",
     "locked": true,
     "schema_version": 1,
     "solution": false
    }
   },
   "source": [
    "# Part 0: Representing numbers as strings\n",
    "\n",
    "The following exercises are designed to reinforce your understanding of how we can view the encoding of a number as string of digits in a given base.\n",
    "\n",
    "> If you are interested in exploring this topic in more depth, see the [\"Floating-Point Arithmetic\" section](https://docs.python.org/3/tutorial/floatingpoint.html) of the Python documentation."
   ]
  },
  {
   "cell_type": "markdown",
   "metadata": {
    "deletable": false,
    "editable": false,
    "nbgrader": {
     "grade": false,
     "grade_id": "cell-451d6ed7e49d5e04",
     "locked": true,
     "schema_version": 1,
     "solution": false
    }
   },
   "source": [
    "## Integers as strings\n",
    "\n",
    "Consider the string of digits:\n",
    "\n",
    "```python\n",
    "    '16180339887'\n",
    "```\n",
    "\n",
    "If you are told this string is for a decimal number, meaning the base of its digits is ten (10), then its value is given by\n",
    "\n",
    "$$\n",
    "    [\\![ \\mathtt{16180339887} ]\\!]_{10} = (1 \\times 10^{10}) + (6 \\times 10^9) + (1 \\times 10^8) + \\cdots + (8 \\times 10^1) + (7 \\times 10^0) = 16,\\!180,\\!339,\\!887.\n",
    "$$\n",
    "\n",
    "Similarly, consider the following string of digits:\n",
    "\n",
    "```python\n",
    "    '100111010'\n",
    "```\n",
    "\n",
    "If you are told this string is for a binary number, meaning its base is two (2), then its value is\n",
    "\n",
    "$$\n",
    "    [\\![ \\mathtt{100111010} ]\\!]_2 = (1 \\times 2^8) + (1 \\times 2^5) + \\cdots + (1 \\times 2^1).\n",
    "$$\n",
    "\n",
    "(What is this value?)\n",
    "\n",
    "And in general, the value of a string of $d+1$ digits in base $b$ is,\n",
    "\n",
    "$$\n",
    "  [\\![ s_d s_{d-1} \\cdots s_1 s_0 ]\\!]_b = \\sum_{i=0}^{d} s_i \\times b^i.\n",
    "$$"
   ]
  },
  {
   "cell_type": "markdown",
   "metadata": {
    "deletable": false,
    "editable": false,
    "nbgrader": {
     "grade": false,
     "grade_id": "cell-984e8904a5b92c45",
     "locked": true,
     "schema_version": 1,
     "solution": false
    }
   },
   "source": [
    "**Bases greater than ten (10).** Observe that when the base at most ten, the digits are the usual decimal digits, `0`, `1`, `2`, ..., `9`. What happens when the base is greater than ten? For this notebook, suppose we are interested in bases that are at most 36; then, we will adopt the convention of using lowercase Roman letters, `a`, `b`, `c`, ..., `z` for \"digits\" whose values correspond to 10, 11, 12, ..., 35.\n",
    "\n",
    "> Before moving on to the next exercise, run the following code cell. It has three functions, which are used in some of the testing code. Given a base, one of these functions checks whether a single-character input string is a valid digit; and the other returns a list of all valid string digits. (The third one simply prints the valid digit list, given a base.) If you want some additional practice reading code, you might inspect these functions."
   ]
  },
  {
   "cell_type": "code",
   "execution_count": 1,
   "metadata": {
    "deletable": false,
    "editable": false,
    "nbgrader": {
     "grade": false,
     "locked": true,
     "solution": false
    }
   },
   "outputs": [
    {
     "name": "stdout",
     "output_type": "stream",
     "text": [
      "The valid base 6 digits: 0, 1, 2, 3, 4, 5\n",
      "The valid base 16 digits: 0, 1, 2, 3, 4, 5, 6, 7, 8, 9, a, b, c, d, e, f\n",
      "The valid base 23 digits: 0, 1, 2, 3, 4, 5, 6, 7, 8, 9, a, b, c, d, e, f, g, h, i, j, k, l, m\n"
     ]
    }
   ],
   "source": [
    "def is_valid_strdigit(c, base=2):\n",
    "    if type (c) is not str: return False # Reject non-string digits\n",
    "    if (type (base) is not int) or (base < 2) or (base > 36): return False # Reject non-integer bases outside 2-36\n",
    "    if base < 2 or base > 36: return False # Reject bases outside 2-36\n",
    "    if len (c) != 1: return False # Reject anything that is not a single character\n",
    "    if '0' <= c <= str (min (base-1, 9)): return True # Numerical digits for bases up to 10\n",
    "    if base > 10 and 0 <= ord (c) - ord ('a') < base-10: return True # Letter digits for bases > 10\n",
    "    return False # Reject everything else\n",
    "\n",
    "def valid_strdigits(base=2):\n",
    "    POSSIBLE_DIGITS = '0123456789abcdefghijklmnopqrstuvwxyz'\n",
    "    return [c for c in POSSIBLE_DIGITS if is_valid_strdigit(c, base)]\n",
    "\n",
    "def print_valid_strdigits(base=2):\n",
    "    valid_list = valid_strdigits(base)\n",
    "    if not valid_list:\n",
    "        msg = '(none)'\n",
    "    else:\n",
    "        msg = ', '.join([c for c in valid_list])\n",
    "    print('The valid base ' + str(base) + ' digits: ' + msg)\n",
    "    \n",
    "# Quick demo:\n",
    "print_valid_strdigits(6)\n",
    "print_valid_strdigits(16)\n",
    "print_valid_strdigits(23)"
   ]
  },
  {
   "cell_type": "markdown",
   "metadata": {
    "deletable": false,
    "editable": false,
    "nbgrader": {
     "grade": false,
     "locked": true,
     "solution": false
    }
   },
   "source": [
    "**Exercise 0** (3 points). Write a function, `eval_strint(s, base)`. It takes a string of digits `s` in the base given by `base`. It returns its value as an integer.\n",
    "\n",
    "That is, this function implements the mathematical object, $[\\![ s ]\\!]_b$, which would convert a string $s$ to its numerical value, assuming its digits are given in base $b$. For example:\n",
    "\n",
    "```python\n",
    "    eval_strint('100111010', base=2) == 314\n",
    "```\n",
    "\n",
    "> Hint: Python makes this exercise very easy. Search Python's online documentation for information about the `int()` constructor to see how you can apply it to solve this problem. (You have encountered this constructor already, in Notebook/Assignment 2.)"
   ]
  },
  {
   "cell_type": "code",
   "execution_count": 2,
   "metadata": {
    "collapsed": true,
    "nbgrader": {
     "grade": false,
     "grade_id": "eval_strint",
     "locked": false,
     "schema_version": 1,
     "solution": true
    }
   },
   "outputs": [],
   "source": [
    "def eval_strint(s, base=2):\n",
    "    assert type(s) is str\n",
    "    assert 2 <= base <= 36\n",
    "    ###\n",
    "    return int(s, base)\n"
   ]
  },
  {
   "cell_type": "code",
   "execution_count": 3,
   "metadata": {},
   "outputs": [
    {
     "data": {
      "text/plain": [
       "2740"
      ]
     },
     "execution_count": 3,
     "metadata": {},
     "output_type": "execute_result"
    }
   ],
   "source": [
    "eval_strint('ab4', 16)"
   ]
  },
  {
   "cell_type": "code",
   "execution_count": 4,
   "metadata": {
    "deletable": false,
    "editable": false,
    "nbgrader": {
     "grade": true,
     "grade_id": "eval_strint_test0",
     "locked": true,
     "points": "1",
     "schema_version": 1,
     "solution": false
    }
   },
   "outputs": [
    {
     "name": "stdout",
     "output_type": "stream",
     "text": [
      "'16180339887' -> 16180339887\n",
      "\n",
      "(Passed!)\n"
     ]
    }
   ],
   "source": [
    "# Test: `eval_strint_test0` (1 point)\n",
    "\n",
    "def check_eval_strint(s, v, base=2):\n",
    "    v_s = eval_strint(s, base)\n",
    "    msg = \"'{}' -> {}\".format (s, v_s)\n",
    "    print(msg)\n",
    "    assert v_s == v, \"Results do not match expected solution.\"\n",
    "\n",
    "# Test 0: From the videos\n",
    "check_eval_strint('16180339887', 16180339887, base=10)\n",
    "print (\"\\n(Passed!)\")"
   ]
  },
  {
   "cell_type": "code",
   "execution_count": 5,
   "metadata": {
    "deletable": false,
    "editable": false,
    "nbgrader": {
     "grade": true,
     "grade_id": "eval_strint_test1",
     "locked": true,
     "points": "1",
     "solution": false
    }
   },
   "outputs": [
    {
     "name": "stdout",
     "output_type": "stream",
     "text": [
      "'100111010' -> 314\n",
      "\n",
      "(Passed!)\n"
     ]
    }
   ],
   "source": [
    "# Test: `eval_strint_test1` (1 point)\n",
    "check_eval_strint('100111010', 314, base=2)\n",
    "print (\"\\n(Passed!)\")\n"
   ]
  },
  {
   "cell_type": "code",
   "execution_count": 6,
   "metadata": {
    "deletable": false,
    "editable": false,
    "nbgrader": {
     "grade": true,
     "grade_id": "eval_strint_test2",
     "locked": true,
     "points": "1",
     "solution": false
    }
   },
   "outputs": [
    {
     "name": "stdout",
     "output_type": "stream",
     "text": [
      "'a205b064' -> 2718281828\n",
      "\n",
      "(Passed!)\n"
     ]
    }
   ],
   "source": [
    "# Test: `eval_strint_test2` (1 point)\n",
    "check_eval_strint('a205b064', 2718281828, base=16)\n",
    "print (\"\\n(Passed!)\")"
   ]
  },
  {
   "cell_type": "markdown",
   "metadata": {
    "deletable": false,
    "editable": false,
    "nbgrader": {
     "grade": false,
     "grade_id": "cell-ba1a6cefcc7cb356",
     "locked": true,
     "schema_version": 1,
     "solution": false
    }
   },
   "source": [
    "## Fractional values\n",
    "\n",
    "Recall that we can extend the basic string representation to include a fractional part by interpreting digits to the right of the \"fractional point\" (i.e., \"the dot\") as having negative indices. For instance,\n",
    "\n",
    "$$\n",
    "    [\\![ \\mathtt{3.14} ]\\!]_{10} = (3 \\times 10^0) + (1 \\times 10^{-1}) + (4 \\times 10^{-2}).\n",
    "$$\n",
    "\n",
    "Or, in general,\n",
    "\n",
    "$$\n",
    "  [\\![ s_d s_{d-1} \\cdots s_1 s_0 \\, \\underset{\\Large\\uparrow}{\\Huge\\mathtt{.}} \\, s_{-1} s_{-2} \\cdots s_{-r} ]\\!]_b = \\sum_{i=-r}^{d} s_i \\times b^i.\n",
    "$$"
   ]
  },
  {
   "cell_type": "markdown",
   "metadata": {},
   "source": [
    "**Exercise 1** (4 points). Suppose a string of digits `s` in base `base` contains up to one fractional point. Complete the function, `eval_strfrac(s, base)`, so that it returns its corresponding floating-point value.\n",
    "\n",
    "Your function should *always* return a value of type `float`, even if the input happens to correspond to an exact integer.\n",
    "\n",
    "Examples:\n",
    "\n",
    "```python\n",
    "    eval_strfrac('3.14', base=10) ~= 3.14\n",
    "    eval_strfrac('100.101', base=2) == 4.625\n",
    "    eval_strfrac('2c', base=16) ~= 44.0   # Note: Must be a float even with an integer input!\n",
    "```\n",
    "\n",
    "> _Comment._ Because of potential floating-point roundoff errors, as explained in the videos, conversions based on the general polynomial formula given previously will not be exact. The testing code will include a built-in tolerance to account for such errors.\n",
    ">\n",
    "> _Hint._ You should be able to construct a solution that reuses the function, `eval_strint()`, from Exercise 0."
   ]
  },
  {
   "cell_type": "code",
   "execution_count": 7,
   "metadata": {
    "collapsed": true,
    "nbgrader": {
     "grade": false,
     "grade_id": "eval_strfrac",
     "locked": false,
     "schema_version": 1,
     "solution": true
    }
   },
   "outputs": [],
   "source": [
    "def is_valid_strfrac(s, base=2):\n",
    "    return all([is_valid_strdigit(c, base) for c in s if c != '.']) \\\n",
    "        and (len([c for c in s if c == '.']) <= 1) #only 1 or 0 decimal point\n",
    "\n",
    "\n",
    "def eval_strfrac(s, base=2):\n",
    "    assert is_valid_strfrac(s, base), \"'{}' contains invalid digits for a base-{} number.\".format(s, base)\n",
    "    if '.' not in s: #integer\n",
    "        return float(eval_strint(s,base))\n",
    "    else:\n",
    "        int_part = s.split('.')[0]\n",
    "        frac_part = s.split('.')[1]\n",
    "        sum_int = eval_strint(int_part, base)\n",
    "        sum_frac = 0\n",
    "        for j in range(len(frac_part)):\n",
    "            sum_frac += int(frac_part[j],base)* (base **(-j-1))\n",
    "        return float(sum_int + sum_frac)   "
   ]
  },
  {
   "cell_type": "code",
   "execution_count": 8,
   "metadata": {
    "deletable": false,
    "editable": false,
    "nbgrader": {
     "grade": true,
     "grade_id": "eval_strfrac_test0",
     "locked": true,
     "points": "1",
     "schema_version": 1,
     "solution": false
    }
   },
   "outputs": [
    {
     "name": "stdout",
     "output_type": "stream",
     "text": [
      "[3.14]_{10} ~= 3.14: You computed 3.14, which differs by 0.0.\n",
      "[100.101]_{2} ~= 4.625: You computed 4.625, which differs by 0.0.\n",
      "[11.0010001111]_{2} ~= 3.1396484375: You computed 3.1396484375, which differs by 0.0.\n",
      "[f.a]_{16} ~= 15.625: You computed 15.625, which differs by 0.0.\n",
      "\n",
      "(Passed!)\n"
     ]
    }
   ],
   "source": [
    "# Test 0: `eval_strfrac_test0` (1 point)\n",
    "\n",
    "def check_eval_strfrac(s, v_true, base=2, tol=1e-7):\n",
    "    v_you = eval_strfrac(s, base)\n",
    "    assert type(v_you) is float, \"Your function did not return a `float` as instructed.\"\n",
    "    delta_v = v_you - v_true\n",
    "    msg = \"[{}]_{{{}}} ~= {}: You computed {}, which differs by {}.\".format(s, base, v_true,\n",
    "                                                                            v_you, delta_v)\n",
    "    print(msg)\n",
    "    assert abs(delta_v) <= tol, \"Difference exceeds expected tolerance.\"\n",
    "    \n",
    "# Test cases from the video\n",
    "check_eval_strfrac('3.14', 3.14, base=10)\n",
    "check_eval_strfrac('100.101', 4.625, base=2)\n",
    "check_eval_strfrac('11.0010001111', 3.1396484375, base=2)\n",
    "\n",
    "# A hex test case\n",
    "check_eval_strfrac('f.a', 15.625, base=16)\n",
    "\n",
    "print(\"\\n(Passed!)\")"
   ]
  },
  {
   "cell_type": "code",
   "execution_count": 9,
   "metadata": {
    "deletable": false,
    "editable": false,
    "nbgrader": {
     "grade": true,
     "grade_id": "eval_strfrac_test1",
     "locked": true,
     "points": "1",
     "solution": false
    },
    "scrolled": false
   },
   "outputs": [
    {
     "name": "stdout",
     "output_type": "stream",
     "text": [
      "[1101]_{2} ~= 13: You computed 13.0, which differs by 0.0.\n"
     ]
    }
   ],
   "source": [
    "# Test 1: `eval_strfrac_test1` (1 point)\n",
    "\n",
    "check_eval_strfrac('1101', 13, base=2)"
   ]
  },
  {
   "cell_type": "code",
   "execution_count": 10,
   "metadata": {
    "deletable": false,
    "editable": false,
    "nbgrader": {
     "grade": true,
     "grade_id": "eval_strfrac_test2",
     "locked": true,
     "points": "2",
     "solution": false
    }
   },
   "outputs": [
    {
     "name": "stdout",
     "output_type": "stream",
     "text": [
      "[18c9.1]_{13} ~= 3714.076923076923: You computed 3714.076923076923, which differs by 0.0.\n",
      "[80.6822]_{10} ~= 80.6822: You computed 80.6822, which differs by 0.0.\n",
      "[jc82.g]_{25} ~= 304577.64: You computed 304577.64, which differs by 0.0.\n",
      "[18a91]_{12} ~= 36109.0: You computed 36109.0, which differs by 0.0.\n",
      "[qa6il4]_{28} ~= 453762544.0: You computed 453762544.0, which differs by 0.0.\n",
      "[332]_{5} ~= 92.0: You computed 92.0, which differs by 0.0.\n",
      "[6jd.j]_{26} ~= 4563.7307692307695: You computed 4563.7307692307695, which differs by 0.0.\n",
      "[202000.12221]_{4} ~= 2176.4150390625: You computed 2176.4150390625, which differs by 0.0.\n",
      "[f49.w3]_{33} ~= 16476.972451790632: You computed 16476.972451790632, which differs by 0.0.\n",
      "[wr8ppb.nw]_{34} ~= 1490358833.7041523: You computed 1490358833.7041523, which differs by 0.0.\n",
      "\n",
      "(Passed!)\n"
     ]
    }
   ],
   "source": [
    "# Test 2: `eval_strfrac_test2` (2 point)\n",
    "\n",
    "def check_random_strfrac():\n",
    "    from random import randint\n",
    "    b = randint(2, 36) # base\n",
    "    d = randint(0, 5) # leading digits\n",
    "    r = randint(0, 5) # trailing digits\n",
    "    v_true = 0.0\n",
    "    s = ''\n",
    "    possible_digits = valid_strdigits(b)\n",
    "    for i in range(-r, d+1):\n",
    "        v_i = randint(0, b-1)\n",
    "        s_i = possible_digits[v_i]\n",
    "\n",
    "        v_true += v_i * (b**i)\n",
    "        s = s_i + s\n",
    "        if i == -1:\n",
    "            s = '.' + s\n",
    "    check_eval_strfrac(s, v_true, base=b)\n",
    "    \n",
    "for _ in range(10):\n",
    "    check_random_strfrac()\n",
    "    \n",
    "print(\"\\n(Passed!)\")"
   ]
  },
  {
   "cell_type": "markdown",
   "metadata": {
    "deletable": false,
    "editable": false,
    "nbgrader": {
     "grade": false,
     "grade_id": "cell-543fbfe9909512d0",
     "locked": true,
     "schema_version": 1,
     "solution": false
    }
   },
   "source": [
    "## Floating-point encodings\n",
    "\n",
    "Recall that a floating-point encoding or format is a normalized scientific notation consisting of a _base_, a _sign_, a fractional _significand_ or _mantissa_, and a signed integer _exponent_. Conceptually, think of it as a tuple of the form, $(\\pm, [\\![s]\\!]_b, x)$, where $b$ is the digit base (e.g., decimal, binary); $\\pm$ is the sign bit; $s$ is the significand encoded as a base $b$ string; and $x$ is the exponent. For simplicity, let's assume that only the significand $s$ is encoded in base $b$ and treat $x$ as an integer value. Mathematically, the value of this tuple is $\\pm \\, [\\![s]\\!]_b \\times b^x$."
   ]
  },
  {
   "cell_type": "markdown",
   "metadata": {
    "deletable": false,
    "editable": false,
    "nbgrader": {
     "grade": false,
     "grade_id": "cell-b9f97cde14b444f2",
     "locked": true,
     "schema_version": 1,
     "solution": false
    }
   },
   "source": [
    "**IEEE double-precision.** For instance, Python, R, and MATLAB, by default, store their floating-point values in a standard tuple representation known as _IEEE double-precision format_. It's a 64-bit binary encoding having the following components:\n",
    "\n",
    "- The most significant bit indicates the sign of the value.\n",
    "- The significand is a 53-bit string with an _implicit_ leading one. That is, if the bit string representation of $s$ is $s_0 . s_1 s_2 \\cdots s_d$, then $s_0=1$ always and is never stored explicitly. That also means $d=52$.\n",
    "- The exponent is an 11-bit string and is treated as a signed integer in the range $[-1022, 1023]$.\n",
    "\n",
    "Thus, the smallest positive value in this format $2^{-1022} \\approx 2.23 \\times 10^{-308}$, and the smallest positive value greater than 1 is $1 + \\epsilon$, where $\\epsilon=2^{-52} \\approx 2.22 \\times 10^{-16}$ is known as _machine epsilon_ (in this case, for double-precision)."
   ]
  },
  {
   "cell_type": "markdown",
   "metadata": {
    "deletable": false,
    "editable": false,
    "nbgrader": {
     "grade": false,
     "grade_id": "cell-3a5782fd960ec86c",
     "locked": true,
     "schema_version": 1,
     "solution": false
    }
   },
   "source": [
    "**Special values.** You might have noticed that the exponent is slightly asymmetric. Part of the reason is that the IEEE floating-point encoding can also represent several kinds of special values, such as infinities and an odd bird called \"not-a-number\" or `NaN`. This latter value, which you may have seen if you have used any standard statistical packages, can be used to encode certain kinds of floating-point exceptions that result when, for instance, you try to divide zero by zero.\n",
    "\n",
    "> If you are familiar with languages like C, C++, or Java, then IEEE double-precision format is the same as the `double` primitive type. The other common format is single-precision, which is `float` in those same languages."
   ]
  },
  {
   "cell_type": "markdown",
   "metadata": {
    "deletable": false,
    "editable": false,
    "nbgrader": {
     "grade": false,
     "grade_id": "cell-1ca74d723cc75e05",
     "locked": true,
     "schema_version": 1,
     "solution": false
    }
   },
   "source": [
    "**Inspecting a floating-point number in Python.** Python provides support for looking at floating-point values directly! Given any floating-point variable, `v` (that is, `type(v) is float`), the method `v.hex()` returns a string representation of its encoding. It's easiest to see by example, so run the following code cell:"
   ]
  },
  {
   "cell_type": "code",
   "execution_count": 11,
   "metadata": {},
   "outputs": [
    {
     "name": "stdout",
     "output_type": "stream",
     "text": [
      "v = 0.0 ==> v.hex() == '0x0.0p+0'\n",
      "v = 1.0 ==> v.hex() == '0x1.0000000000000p+0'\n",
      "v = 16.0625 ==> v.hex() == '0x1.0100000000000p+4'\n",
      "v = -0.1 ==> v.hex() == '-0x1.999999999999ap-4'\n"
     ]
    }
   ],
   "source": [
    "def print_fp_hex(v):\n",
    "    assert type(v) is float\n",
    "    print(\"v = {} ==> v.hex() == '{}'\".format(v, v.hex()))\n",
    "    #hex() Return a representation of a floating-point number as a hexadecimal string.\n",
    "print_fp_hex(0.0)\n",
    "print_fp_hex(1.0)\n",
    "print_fp_hex(16.0625)\n",
    "print_fp_hex(-0.1)"
   ]
  },
  {
   "cell_type": "markdown",
   "metadata": {
    "deletable": false,
    "editable": false,
    "nbgrader": {
     "grade": false,
     "grade_id": "cell-67b3150d20fe2afe",
     "locked": true,
     "schema_version": 1,
     "solution": false
    }
   },
   "source": [
    "Observe that the format has these properties:\n",
    "* If `v` is negative, the first character of the string is `'-'`.\n",
    "* The next two characters are always `'0x'`.\n",
    "* Following that, the next characters up to but excluding the character `'p'` is a fractional string of hexadecimal (base-16) digits. In other words, this substring corresponds to the significand encoded in base-16.\n",
    "* The `'p'` character separates the significand from the exponent. The exponent follows, as a signed integer (`'+'` or `'-'` prefix). Its implied base is two (2)---**not** base-16, even though the significand is.\n",
    "\n",
    "Thus, to convert this string back into the floating-point value, you could do the following:\n",
    "* Record the sign as a value, `v_sign`, which is either +1 or -1.\n",
    "* Convert the significand into a fractional value, `v_signif`, assuming base-16 digits.\n",
    "* Extract the exponent as a signed integer value, `v_exp`.\n",
    "* Compute the final value as `v_sign * v_signif * (2.0**v_exp)`.\n",
    "\n",
    "For example, here is how you can get 16.025 back from its `hex()` representation, `'0x1.0100000000000p+4'`:"
   ]
  },
  {
   "cell_type": "code",
   "execution_count": 12,
   "metadata": {},
   "outputs": [
    {
     "name": "stdout",
     "output_type": "stream",
     "text": [
      "16.0625\n"
     ]
    }
   ],
   "source": [
    "# Recall: v = 16.0625 ==> v.hex() == '0x1.0100000000000p+4'\n",
    "print((+1.0) * eval_strfrac('1.0100000000000', base=16) * (2**4))"
   ]
  },
  {
   "cell_type": "markdown",
   "metadata": {
    "deletable": false,
    "editable": false,
    "nbgrader": {
     "grade": false,
     "grade_id": "cell-a9575a9387d06be3",
     "locked": true,
     "schema_version": 1,
     "solution": false
    }
   },
   "source": [
    "**Exercise 2** (4 points). Write a function, `fp_bin(v)`, that determines the IEEE-754 tuple representation of any double-precision floating-point value, `v`. That is, given the variable `v` such that `type(v) is float`, it should return a tuple with three components, `(s_sign, s_signif, v_exp)` such that\n",
    "\n",
    "* `s_sign` is a string representing the sign bit, encoded as either a `'+'` or `'-'` character;\n",
    "* `s_signif` is the significand, which should be a string of 54 bits having the form, `x.xxx...x`, where there are (at most) 53 `x` bits (0 or 1 values);\n",
    "* `v_exp` is the value of the exponent and should be an _integer_.\n",
    "\n",
    "For example:\n",
    "\n",
    "```python\n",
    "    v = -1280.03125\n",
    "    assert v.hex() == '-0x1.4002000000000p+10'\n",
    "    assert fp_bin(v) == ('-', '1.0100000000000010000000000000000000000000000000000000', 10)\n",
    "```\n",
    "\n",
    "> There are many ways to approach this problem. One we came up exploits the observation that $[\\![\\mathtt{0}]\\!]_{16} == [\\![\\mathtt{0000}]\\!]_2$ and $[\\![\\mathtt{f}]\\!]_{16} = [\\![\\mathtt{1111}]\\!]$ and applies an idea in this Stackoverflow post: https://stackoverflow.com/questions/1425493/convert-hex-to-binary"
   ]
  },
  {
   "cell_type": "code",
   "execution_count": 13,
   "metadata": {},
   "outputs": [
    {
     "name": "stdout",
     "output_type": "stream",
     "text": [
      "-0x1.4002000000000p+10\n"
     ]
    }
   ],
   "source": [
    "# Demo of `float.hex()`\n",
    "v = -1280.03125\n",
    "print(v.hex())"
   ]
  },
  {
   "cell_type": "code",
   "execution_count": 14,
   "metadata": {},
   "outputs": [
    {
     "data": {
      "text/plain": [
       "1126037345796096"
      ]
     },
     "execution_count": 14,
     "metadata": {},
     "output_type": "execute_result"
    }
   ],
   "source": [
    "int('4002000000000', base = 16)"
   ]
  },
  {
   "cell_type": "code",
   "execution_count": 15,
   "metadata": {},
   "outputs": [
    {
     "data": {
      "text/plain": [
       "'0b100000000000010000000000000000000000000000000000000'"
      ]
     },
     "execution_count": 15,
     "metadata": {},
     "output_type": "execute_result"
    }
   ],
   "source": [
    "bin(1126037345796096)"
   ]
  },
  {
   "cell_type": "code",
   "execution_count": 16,
   "metadata": {},
   "outputs": [
    {
     "data": {
      "text/plain": [
       "51"
      ]
     },
     "execution_count": 16,
     "metadata": {},
     "output_type": "execute_result"
    }
   ],
   "source": [
    "len('100000000000010000000000000000000000000000000000000')"
   ]
  },
  {
   "cell_type": "code",
   "execution_count": 17,
   "metadata": {},
   "outputs": [
    {
     "data": {
      "text/plain": [
       "'0100000000000010000000000000000000000000000000000000'"
      ]
     },
     "execution_count": 17,
     "metadata": {},
     "output_type": "execute_result"
    }
   ],
   "source": [
    "'100000000000010000000000000000000000000000000000000'.zfill(52) #fill zeros in the front"
   ]
  },
  {
   "cell_type": "code",
   "execution_count": 18,
   "metadata": {
    "collapsed": true,
    "nbgrader": {
     "grade": false,
     "grade_id": "fp_bin",
     "locked": false,
     "schema_version": 1,
     "solution": true
    }
   },
   "outputs": [],
   "source": [
    "def fp_bin(v):\n",
    "    assert type(v) is float\n",
    "###\n",
    "    if str(v)[0] == '-':\n",
    "        sign = '-'\n",
    "    else:\n",
    "        sign = '+'\n",
    "        \n",
    "    v_hex = v.hex()\n",
    "    sig = v_hex.split('.')[1].split('p')[0]\n",
    "    significand = bin(int(sig, base = 16))[2:].zfill(52)\n",
    "    \n",
    "    lead = v_hex.split('.')[0].split('x')[1]\n",
    "    if lead == '1':\n",
    "        sig_lead = '1.'\n",
    "    else:\n",
    "        sig_lead = '0.'\n",
    "    \n",
    "    significant_lead = sig_lead + significand\n",
    "    #p+10\n",
    "    exp = v_hex.split('p')[1]\n",
    "    if exp[0] == '+':\n",
    "        exponent = int(exp[1:])\n",
    "    else:\n",
    "        exponent = -1*int(exp[1:])\n",
    "    \n",
    "    return (sign,significant_lead, exponent)\n",
    "###\n"
   ]
  },
  {
   "cell_type": "code",
   "execution_count": 19,
   "metadata": {
    "deletable": false,
    "editable": false,
    "nbgrader": {
     "grade": true,
     "grade_id": "fp_bin_test0",
     "locked": true,
     "points": "2",
     "schema_version": 1,
     "solution": false
    }
   },
   "outputs": [
    {
     "name": "stdout",
     "output_type": "stream",
     "text": [
      "0.0 [0x0.0p+0] ==\n",
      "         ('+', '0.0000000000000000000000000000000000000000000000000000', 0)\n",
      "vs. you: ('+', '0.0000000000000000000000000000000000000000000000000000', 0)\n",
      "\n",
      "-0.1 [-0x1.999999999999ap-4] ==\n",
      "         ('-', '1.1001100110011001100110011001100110011001100110011010', -4)\n",
      "vs. you: ('-', '1.1001100110011001100110011001100110011001100110011010', -4)\n",
      "\n",
      "1.0000000000000002 [0x1.0000000000001p+0] ==\n",
      "         ('+', '1.0000000000000000000000000000000000000000000000000001', 0)\n",
      "vs. you: ('+', '1.0000000000000000000000000000000000000000000000000001', 0)\n",
      "\n",
      "-1280.03125 [-0x1.4002000000000p+10] ==\n",
      "         ('-', '1.0100000000000010000000000000000000000000000000000000', 10)\n",
      "vs. you: ('-', '1.0100000000000010000000000000000000000000000000000000', 10)\n",
      "\n",
      "6.2831853072 [0x1.921fb544486e0p+2] ==\n",
      "         ('+', '1.1001001000011111101101010100010001001000011011100000', 2)\n",
      "vs. you: ('+', '1.1001001000011111101101010100010001001000011011100000', 2)\n",
      "\n",
      "-0.7614972118393695 [-0x1.85e2f669b0c80p-1] ==\n",
      "         ('-', '1.1000010111100010111101100110100110110000110010000000', -1)\n",
      "vs. you: ('-', '1.1000010111100010111101100110100110110000110010000000', -1)\n",
      "\n",
      "\n",
      "(Passed!)\n"
     ]
    }
   ],
   "source": [
    "# Test: `fp_bin_test0` (2 points)\n",
    "\n",
    "def assert_fp_bin_props(v_you_tuple):\n",
    "    assert len(v_you_tuple) == 3, \"Your floating point value should be a tuple with three components; yours has {}.\".format(len(v_you_tuple))\n",
    "    v_you_sign, v_you_signif, v_you_exp = v_you_tuple\n",
    "    assert v_you_sign in ['+', '-'], \"Your sign is '{}' instead of either '+' or '-'\".format(v_you_sign)\n",
    "    assert type(v_you_signif) is str, \"Your significand is a '{}', rather than a string ('str').\".format(type(v_you_signif))\n",
    "    assert len(v_you_signif) == 54, \"Your significand has {} chars instead of 54.\".format(len(v_you_signif))\n",
    "    assert v_you_signif[1] == '.', \"Your significand should have a point (period) character in it at position 1, but has a '{}' instead.\".format(v_you_signif[1])\n",
    "    assert v_you_signif[0] in ['0', '1'], \"Your significand have a leading 0 or 1, not a '{}'\".format(v_you_signif[1])\n",
    "    assert all([c in ['0', '1'] for c in v_you_signif[2:]]), \"Your significand should only have binary digits ('0' or '1')\"\n",
    "    assert type(v_you_exp) is int, \"Your exponent should be an integer value, but isn't (it has type '{}')\".format(type(v_you_exp))\n",
    "    assert -1022 <= v_you_exp <= 1023, \"The exponent of {} lies outside the interval, [-1022, 1023].\".format(v_you_exp)\n",
    "\n",
    "def check_fp_bin(v, x_true):\n",
    "    x_you = fp_bin(v)\n",
    "    print(\"\"\"{} [{}] ==\n",
    "         {}\n",
    "vs. you: {}\n",
    "\"\"\".format(v, v.hex(), x_true, x_you))\n",
    "    assert_fp_bin_props(x_you)\n",
    "    assert x_you == x_true, \"Results do not match!\"\n",
    "    \n",
    "check_fp_bin(0.0, ('+', '0.0000000000000000000000000000000000000000000000000000', 0))\n",
    "check_fp_bin(-0.1, ('-', '1.1001100110011001100110011001100110011001100110011010', -4))\n",
    "check_fp_bin(1.0 + (2**(-52)), ('+', '1.0000000000000000000000000000000000000000000000000001', 0))\n",
    "\n",
    "check_fp_bin(-1280.03125, ('-', '1.0100000000000010000000000000000000000000000000000000', 10))\n",
    "check_fp_bin(6.2831853072, ('+', '1.1001001000011111101101010100010001001000011011100000', 2))\n",
    "check_fp_bin(-0.7614972118393695, ('-', '1.1000010111100010111101100110100110110000110010000000', -1))\n",
    "\n",
    "print(\"\\n(Passed!)\")"
   ]
  },
  {
   "cell_type": "markdown",
   "metadata": {},
   "source": [
    "> The following test cell tries some additional cases, which are random floating-point values. The cell uses your `eval_strfrac()` function, so that must be working properly in order for this test to work."
   ]
  },
  {
   "cell_type": "code",
   "execution_count": 20,
   "metadata": {
    "deletable": false,
    "editable": false,
    "nbgrader": {
     "grade": true,
     "grade_id": "fp_bin_test1",
     "locked": true,
     "points": "2",
     "solution": false
    }
   },
   "outputs": [
    {
     "name": "stdout",
     "output_type": "stream",
     "text": [
      "==> Random test case: 0.39081381792309067 [0x1.90317f5b37e20p-2]\n",
      "    You generated: ('+', '1.1001000000110001011111110101101100110111111000100000', -2)\n",
      "    The equivalent value is: 0.39081381792309067\n",
      "==> Random test case: -101.93041309765621 [-0x1.97b8be3608d06p+6]\n",
      "    You generated: ('-', '1.1001011110111000101111100011011000001000110100000110', 6)\n",
      "    The equivalent value is: -101.93041309765621\n",
      "==> Random test case: -1.0914814199140273e-05 [-0x1.6e3d8a41021f6p-17]\n",
      "    You generated: ('-', '1.0110111000111101100010100100000100000010000111110110', -17)\n",
      "    The equivalent value is: -1.0914814199140273e-05\n",
      "==> Random test case: -3.5706843865069083e-05 [-0x1.2b87dd02aa69bp-15]\n",
      "    You generated: ('-', '1.0010101110000111110111010000001010101010011010011011', -15)\n",
      "    The equivalent value is: -3.5706843865069083e-05\n",
      "==> Random test case: -0.00011478714359923868 [-0x1.e173c1c6d1d1ep-14]\n",
      "    You generated: ('-', '1.1110000101110011110000011100011011010001110100011110', -14)\n",
      "    The equivalent value is: -0.00011478714359923868\n",
      "==> Random test case: -6458.559586479036 [-0x1.93a8f410f3abep+12]\n",
      "    You generated: ('-', '1.1001001110101000111101000001000011110011101010111110', 12)\n",
      "    The equivalent value is: -6458.559586479036\n",
      "==> Random test case: 9.071907106027413e-05 [0x1.7c80dc5f79caep-14]\n",
      "    You generated: ('+', '1.0111110010000000110111000101111101111001110010101110', -14)\n",
      "    The equivalent value is: 9.071907106027413e-05\n",
      "==> Random test case: -0.05085199422566633 [-0x1.a0945c8456fb0p-5]\n",
      "    You generated: ('-', '1.1010000010010100010111001000010001010110111110110000', -5)\n",
      "    The equivalent value is: -0.05085199422566633\n",
      "==> Random test case: -0.28247237423083127 [-0x1.21407025612bcp-2]\n",
      "    You generated: ('-', '1.0010000101000000011100000010010101100001001010111100', -2)\n",
      "    The equivalent value is: -0.28247237423083127\n",
      "==> Random test case: -13923.55252638202 [-0x1.b31c6b92f3a7ap+13]\n",
      "    You generated: ('-', '1.1011001100011100011010111001001011110011101001111010', 13)\n",
      "    The equivalent value is: -13923.55252638202\n",
      "\n",
      "(Passed.)\n"
     ]
    }
   ],
   "source": [
    "# Test: `fp_bin_test1` (2 points)\n",
    "\n",
    "def check_rand_case():\n",
    "    from random import random, expovariate\n",
    "    sign_rand0 = 1.0 if random() < 0.5 else -1.0\n",
    "    base_rand = random()\n",
    "    factor_rand = 1.0 if random() < 0.5 else expovariate(1/10000 if random() < 0.5 else 10000)\n",
    "    v_rand = sign_rand0 * base_rand * factor_rand\n",
    "    print(f\"==> Random test case: {v_rand} [{v_rand.hex()}]\")\n",
    "    v_you_tuple = fp_bin(v_rand)\n",
    "    print(f\"    You generated: {v_you_tuple}\")\n",
    "    assert_fp_bin_props(v_you_tuple)\n",
    "    v_you_sign = 1.0 if v_you_tuple[0] == '+' else -1.0\n",
    "    v_you_signif = eval_strfrac(v_you_tuple[1], base=2)\n",
    "    v_you_exp = v_you_tuple[2]\n",
    "    v_you = v_you_sign * v_you_signif * (2.0 ** v_you_exp)\n",
    "    print(f\"    The equivalent value is: {v_you}\")\n",
    "    assert v_you == v_rand, \"Values do not match!\"\n",
    "\n",
    "for _ in range(10):\n",
    "    check_rand_case()\n",
    "    \n",
    "print(\"\\n(Passed.)\")"
   ]
  },
  {
   "cell_type": "markdown",
   "metadata": {},
   "source": [
    "**Exercise 3** (2 points). Suppose you are given a floating-point value in a base given by `base` and in the form of the tuple, `(sign, significand, exponent)`, where\n",
    "\n",
    "* `sign` is either the character '+' if the value is positive and '-' otherwise;\n",
    "* `significand` is a _string_ representation in base-`base`;\n",
    "* `exponent` is an _integer_ representing the exponent value.\n",
    "\n",
    "Complete the function,\n",
    "\n",
    "```python\n",
    "def eval_fp(sign, significand, exponent, base):\n",
    "    ...\n",
    "```\n",
    "\n",
    "so that it converts the tuple into a numerical value (of type `float`) and returns it.\n",
    "\n",
    "For example, `eval_fp('+', '1.25000', -1, base=10)` should return a value that is close to 0.125.\n",
    "\n",
    "> One of the two test cells below uses your implementation of `fp_bin()` from a previous exercise. If you are encountering errors you cannot figure out, it's possible that there is still an unresolved bug in `fp_bin()` that its test cell did *not* catch."
   ]
  },
  {
   "cell_type": "code",
   "execution_count": 21,
   "metadata": {},
   "outputs": [
    {
     "name": "stdout",
     "output_type": "stream",
     "text": [
      "16.0625\n"
     ]
    }
   ],
   "source": [
    "# Recall: v = 16.0625 ==> v.hex() == '0x1.0100000000000p+4'\n",
    "print((+1.0) * eval_strfrac('1.0100000000000', base=16) * (2**4))"
   ]
  },
  {
   "cell_type": "code",
   "execution_count": 22,
   "metadata": {},
   "outputs": [
    {
     "data": {
      "text/plain": [
       "1.25"
      ]
     },
     "execution_count": 22,
     "metadata": {},
     "output_type": "execute_result"
    }
   ],
   "source": [
    "eval_strfrac('1.25000', base = 10)"
   ]
  },
  {
   "cell_type": "code",
   "execution_count": 23,
   "metadata": {
    "nbgrader": {
     "grade": false,
     "grade_id": "eval_fp",
     "locked": false,
     "schema_version": 1,
     "solution": true
    }
   },
   "outputs": [],
   "source": [
    "def eval_fp(sign, significand, exponent, base=2):\n",
    "    assert sign in ['+', '-'], \"Sign bit must be '+' or '-', not '{}'.\".format(sign)\n",
    "    assert is_valid_strfrac(significand, base), \"Invalid significand for base-{}: '{}'\".format(base, significand)\n",
    "    assert type(exponent) is int\n",
    "\n",
    "    ###\n",
    "    if sign == '+':\n",
    "        s = 1\n",
    "    else:\n",
    "        s = -1\n",
    "    sig = eval_strfrac(significand, base)\n",
    "    return s*sig*(base**exponent)"
   ]
  },
  {
   "cell_type": "code",
   "execution_count": 24,
   "metadata": {},
   "outputs": [
    {
     "data": {
      "text/plain": [
       "0.125"
      ]
     },
     "execution_count": 24,
     "metadata": {},
     "output_type": "execute_result"
    }
   ],
   "source": [
    "eval_fp('+', '1.25000', -1, base = 10)"
   ]
  },
  {
   "cell_type": "code",
   "execution_count": 25,
   "metadata": {
    "deletable": false,
    "editable": false,
    "nbgrader": {
     "grade": true,
     "grade_id": "eval_fp_test0",
     "locked": true,
     "points": "1",
     "schema_version": 1,
     "solution": false
    }
   },
   "outputs": [
    {
     "name": "stdout",
     "output_type": "stream",
     "text": [
      "('+', ['1.25000']_{10}, -1) ~= 0.125: You computed 0.125, which differs by 0.0.\n",
      "\n",
      "(Passed.)\n"
     ]
    }
   ],
   "source": [
    "# Test: `eval_fp_test0` (1 point)\n",
    "\n",
    "def check_eval_fp(sign, significand, exponent, v_true, base=2, tol=1e-7):\n",
    "    v_you = eval_fp(sign, significand, exponent, base)\n",
    "    delta_v = v_you - v_true\n",
    "    msg = \"('{}', ['{}']_{{{}}}, {}) ~= {}: You computed {}, which differs by {}.\".format(sign, significand, base, exponent, v_true, v_you, delta_v)\n",
    "    print(msg)\n",
    "    assert abs(delta_v) <= tol, \"Difference exceeds expected tolerance.\"\n",
    "    \n",
    "# Test 0: From the videos\n",
    "check_eval_fp('+', '1.25000', -1, 0.125, base=10)\n",
    "\n",
    "print(\"\\n(Passed.)\")"
   ]
  },
  {
   "cell_type": "markdown",
   "metadata": {},
   "source": [
    "> Here is an additional test cell that you must pass. Note that it uses your `fp_bin()` function from a previous exercise, assuming that is correct. Therefore, if it has bugs, that may cause this test to fail or give strange errors."
   ]
  },
  {
   "cell_type": "code",
   "execution_count": 26,
   "metadata": {
    "deletable": false,
    "editable": false,
    "nbgrader": {
     "grade": true,
     "grade_id": "eval_fp_test1",
     "locked": true,
     "points": "1",
     "solution": false
    }
   },
   "outputs": [
    {
     "name": "stdout",
     "output_type": "stream",
     "text": [
      "('-', ['1.0000101101101010101001111010101000101111001000100100']_{2}, -11) ~= -0.0005100567261915917: You computed -0.0005100567261915917, which differs by 0.0.\n",
      "('+', ['1.0011011011110011000110110110000101100100010000000001']_{2}, -18) ~= 4.633510657285103e-06: You computed 4.633510657285103e-06, which differs by 0.0.\n",
      "('-', ['1.0001100100010111111100001001111010010000111000011110']_{2}, -7) ~= -0.008578293313923398: You computed -0.008578293313923398, which differs by 0.0.\n",
      "('+', ['1.1100101110100001100110111010111001011101101111000100']_{2}, -15) ~= 5.479231855336873e-05: You computed 5.479231855336873e-05, which differs by 0.0.\n",
      "('+', ['1.0011100001010100000100101010011001010010101010100000']_{2}, -4) ~= 0.07625205311812033: You computed 0.07625205311812033, which differs by 0.0.\n",
      "\n",
      "(Passed.)\n"
     ]
    }
   ],
   "source": [
    "# Test: `eval_fp_test1` -- Random floating-point binary values (1 point)\n",
    "def gen_rand_fp_bin():\n",
    "    from random import random, randint\n",
    "    v_sign = 1.0 if (random() < 0.5) else -1.0\n",
    "    v_mag = random() * (10**randint(-5, 5))\n",
    "    v = v_sign * v_mag\n",
    "    s_sign, s_bin, s_exp = fp_bin(v)\n",
    "    return v, s_sign, s_bin, s_exp\n",
    "\n",
    "for _ in range(5):\n",
    "    (v_true, sign, significand, exponent) = gen_rand_fp_bin()\n",
    "    check_eval_fp(sign, significand, exponent, v_true, base=2)\n",
    "\n",
    "print(\"\\n(Passed.)\")"
   ]
  },
  {
   "cell_type": "markdown",
   "metadata": {
    "deletable": false,
    "editable": false,
    "nbgrader": {
     "grade": false,
     "grade_id": "cell-920054b7b2795e3f",
     "locked": true,
     "schema_version": 1,
     "solution": false
    }
   },
   "source": [
    "**Exercise 4** (2 points). Suppose you are given two binary floating-point values, `u` and `v`, in the tuple form given above. That is,\n",
    "```python\n",
    "    u == (u_sign, u_signif, u_exp)\n",
    "    v == (v_sign, v_signif, v_exp)\n",
    "```\n",
    "where the base for both `u` and `v` is two (2). Complete the function `add_fp_bin(u, v, signif_bits)`, so that it returns the sum of these two values with the resulting significand _truncated_ to `signif_bits` digits.\n",
    "\n",
    "For example:\n",
    "```python\n",
    "u = ('+', '1.010010', 0)\n",
    "v = ('-', '1.000000', -2)\n",
    "assert add_fp_bin(u, v, 7) == ('+', '1.000010', 0)  # Caller asks for a significand with 7 digits\n",
    "```\n",
    "and:\n",
    "```python\n",
    "u = ('+', '1.00000', 0)\n",
    "v = ('-', '1.00000', -6)\n",
    "assert add_fp_bin(u, v, 6) == ('+', '1.11111', -1)  # Caller asks for a significand with 6 digits\n",
    "```\n",
    "(Check these examples by hand to make sure you understand the intended output.)\n",
    "\n",
    "> _Note 0_: Assume that `signif_bits` _includes_ the leading 1. For instance, suppose `signif_bits == 4`. Then the significand will have the form, `1.xxx`.\n",
    ">\n",
    "> _Note 1_: You may assume that `u_signif` and `v_signif` use `signif_bits` bits (including the leading `1`). Furthermore, you may assume each uses far fewer bits than the underlying native floating-point type (`float`) does, so that you can use native floating-point to compute intermediate values.\n",
    ">\n",
    "> _Hint_: An earlier exercise defines a function, `fp_bin(v)`, which you can use to convert a Python native floating-point value (i.e., `type(v) is float`) into a binary tuple representation."
   ]
  },
  {
   "cell_type": "code",
   "execution_count": 27,
   "metadata": {},
   "outputs": [
    {
     "data": {
      "text/plain": [
       "1.28125"
      ]
     },
     "execution_count": 27,
     "metadata": {},
     "output_type": "execute_result"
    }
   ],
   "source": [
    "u_fp = eval_fp('+', '1.010010', 0, base=2)\n",
    "u_fp"
   ]
  },
  {
   "cell_type": "code",
   "execution_count": 28,
   "metadata": {},
   "outputs": [
    {
     "data": {
      "text/plain": [
       "-0.25"
      ]
     },
     "execution_count": 28,
     "metadata": {},
     "output_type": "execute_result"
    }
   ],
   "source": [
    "v_fp = eval_fp('-', '1.00000', -2, base=2)\n",
    "v_fp"
   ]
  },
  {
   "cell_type": "code",
   "execution_count": 29,
   "metadata": {},
   "outputs": [
    {
     "data": {
      "text/plain": [
       "1.03125"
      ]
     },
     "execution_count": 29,
     "metadata": {},
     "output_type": "execute_result"
    }
   ],
   "source": [
    "u_fp+v_fp"
   ]
  },
  {
   "cell_type": "code",
   "execution_count": 30,
   "metadata": {},
   "outputs": [
    {
     "data": {
      "text/plain": [
       "'1.00001'"
      ]
     },
     "execution_count": 30,
     "metadata": {},
     "output_type": "execute_result"
    }
   ],
   "source": [
    "fp_bin(u_fp+v_fp)[1][:7]"
   ]
  },
  {
   "cell_type": "code",
   "execution_count": 31,
   "metadata": {
    "collapsed": true,
    "nbgrader": {
     "grade": false,
     "grade_id": "add_fp_bin",
     "locked": false,
     "schema_version": 1,
     "solution": true
    }
   },
   "outputs": [],
   "source": [
    "def add_fp_bin(u, v, signif_bits):\n",
    "    u_sign, u_signif, u_exp = u\n",
    "    v_sign, v_signif, v_exp = v\n",
    "    \n",
    "    # You may assume normalized inputs at the given precision, `signif_bits`.\n",
    "    assert u_signif[:2] == '1.' and len(u_signif) == (signif_bits+1)\n",
    "    assert v_signif[:2] == '1.' and len(v_signif) == (signif_bits+1)\n",
    "    \n",
    "    ###\n",
    "    u_fp = eval_fp(u_sign, u_signif, u_exp, base=2)\n",
    "    v_fp = eval_fp(v_sign, v_signif, v_exp, base=2)\n",
    "    results = fp_bin(u_fp + v_fp)\n",
    "    r_sign, r_signif, r_exp = results\n",
    "    return(r_sign, r_signif[:signif_bits+1], r_exp)\n",
    "    ###\n"
   ]
  },
  {
   "cell_type": "code",
   "execution_count": 32,
   "metadata": {
    "deletable": false,
    "editable": false,
    "nbgrader": {
     "grade": true,
     "grade_id": "add_fp_bin_test",
     "locked": true,
     "points": 2,
     "schema_version": 1,
     "solution": false
    }
   },
   "outputs": [
    {
     "name": "stdout",
     "output_type": "stream",
     "text": [
      "('+', '1.010010', 0) + ('-', '1.000000', -2) == ('+', '1.000010', 0): You produced ('+', '1.000010', 0).\n",
      "('+', '1.00000', 0) + ('+', '1.00000', -5) == ('+', '1.00001', 0): You produced ('+', '1.00001', 0).\n",
      "('+', '1.00000', 0) + ('-', '1.00000', -5) == ('+', '1.11110', -1): You produced ('+', '1.11110', -1).\n",
      "('+', '1.00000', 0) + ('+', '1.00000', -6) == ('+', '1.00000', 0): You produced ('+', '1.00000', 0).\n",
      "('+', '1.00000', 0) + ('-', '1.00000', -6) == ('+', '1.11111', -1): You produced ('+', '1.11111', -1).\n",
      "\n",
      "(Passed!)\n"
     ]
    }
   ],
   "source": [
    "# Test: `add_fp_bin_test`\n",
    "\n",
    "def check_add_fp_bin(u, v, signif_bits, w_true):\n",
    "    w_you = add_fp_bin(u, v, signif_bits)\n",
    "    msg = \"{} + {} == {}: You produced {}.\".format(u, v, w_true, w_you)\n",
    "    print(msg)\n",
    "    assert w_you == w_true, \"Results do not match.\"\n",
    "\n",
    "u = ('+', '1.010010', 0)\n",
    "v = ('-', '1.000000', -2)\n",
    "w_true = ('+', '1.000010', 0)\n",
    "check_add_fp_bin(u, v, 7, w_true)\n",
    "\n",
    "u = ('+', '1.00000', 0)\n",
    "v = ('+', '1.00000', -5)\n",
    "w_true = ('+', '1.00001', 0)\n",
    "check_add_fp_bin(u, v, 6, w_true)\n",
    "\n",
    "u = ('+', '1.00000', 0)\n",
    "v = ('-', '1.00000', -5)\n",
    "w_true = ('+', '1.11110', -1)\n",
    "check_add_fp_bin(u, v, 6, w_true)\n",
    "\n",
    "u = ('+', '1.00000', 0)\n",
    "v = ('+', '1.00000', -6)\n",
    "w_true = ('+', '1.00000', 0)\n",
    "check_add_fp_bin(u, v, 6, w_true)\n",
    "\n",
    "u = ('+', '1.00000', 0)\n",
    "v = ('-', '1.00000', -6)\n",
    "w_true = ('+', '1.11111', -1)\n",
    "check_add_fp_bin(u, v, 6, w_true)\n",
    "\n",
    "print(\"\\n(Passed!)\")"
   ]
  },
  {
   "cell_type": "markdown",
   "metadata": {
    "deletable": false,
    "editable": false,
    "nbgrader": {
     "grade": false,
     "grade_id": "cell-3051088851ca001c",
     "locked": true,
     "schema_version": 1,
     "solution": false
    }
   },
   "source": [
    "**Done!** You've reached the end of `part0`. Be sure to save and submit your work. Once you are satisfied, move on to `part1`."
   ]
  }
 ],
 "metadata": {
  "celltoolbar": "Create Assignment",
  "kernelspec": {
   "display_name": "Python 3.7",
   "language": "python",
   "name": "python3"
  },
  "language_info": {
   "codemirror_mode": {
    "name": "ipython",
    "version": 3
   },
   "file_extension": ".py",
   "mimetype": "text/x-python",
   "name": "python",
   "nbconvert_exporter": "python",
   "pygments_lexer": "ipython3",
   "version": "3.7.5"
  }
 },
 "nbformat": 4,
 "nbformat_minor": 1
}
