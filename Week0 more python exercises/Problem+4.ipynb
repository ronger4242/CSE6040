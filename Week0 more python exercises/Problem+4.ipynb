{
 "cells": [
  {
   "cell_type": "markdown",
   "metadata": {},
   "source": [
    "# Problem 4\n",
    "\n",
    "This problem consists of a single exercise worth ten (10) points.\n",
    "\n",
    "**Exercise 0** (10 points). Complete the function `flatten(L)`, which takes a \"complex list,\" `L`, as input and returns a \"flat\" copy.\n",
    "\n",
    "By complex, we mean that the input list `L` consists of **arbitrarily nested lists of strings and integers**. For instance, here is a complex list:\n",
    "\n",
    "```python\n",
    "    L = [['a', ['cat'], 2],[[[3]], 'dog'], 4, 5]\n",
    "```\n",
    "\n",
    "Observe that there are strings and integers, but that these may be embedded within lists inside lists inside lists...\n",
    "\n",
    "Given such a list, your computational task is to extract all the strings and integers, and return them in a single flattened list. For example:\n",
    "\n",
    "```python\n",
    "  assert flatten(L) == ['a', 'cat', 2, 3, 'dog', 4, 5]\n",
    "```\n",
    "\n",
    "In your flattened version, the strings and integers must appear in the same \"left-to-right\" order as they do in the original list. For instance, if you strip out all the square brackets in the definition of `L` above, then observe that `'cat'` appears to the right of `'a'`, and `2` appears to the right of `'cat'`, and `3` appears to the right of `2`, etc.\n",
    "\n",
    "> Hint: One reasonable approach to this problem is to use _recursion_, that is, the idea of a function that calls itself to solve subproblems. See \"Recursive programs\" at the Wikipedia page on [Recursion as it is used in computer science](https://en.wikipedia.org/wiki/Recursion_%28computer_science%29#Recursive_programs)."
   ]
  },
  {
   "cell_type": "code",
   "execution_count": 1,
   "metadata": {
    "collapsed": true
   },
   "outputs": [],
   "source": [
    "def flatten(L):\n",
    "    assert type(L) is list\n",
    "    newL = []\n",
    "    for i in L:\n",
    "        if type(i) is list:\n",
    "            newL += flatten(i)\n",
    "        else:\n",
    "            newL.append(i)\n",
    "    return newL\n"
   ]
  },
  {
   "cell_type": "code",
   "execution_count": 2,
   "metadata": {
    "deletable": false,
    "editable": false,
    "nbgrader": {
     "grade": true,
     "grade_id": "test_flatten",
     "locked": true,
     "points": "10",
     "solution": false
    }
   },
   "outputs": [
    {
     "name": "stdout",
     "output_type": "stream",
     "text": [
      "Your result: \n",
      "['a', 'cat', 2, 3, 'dog', 4, 5]\n",
      "True result: \n",
      "['a', 'cat', 2, 3, 'dog', 4, 5]\n",
      "\n",
      "\n",
      "Your result: \n",
      "[1, 'b', 2, 't', 3, 'snow', 'x', 'hat', 7]\n",
      "True result: \n",
      "[1, 'b', 2, 't', 3, 'snow', 'x', 'hat', 7]\n",
      "\n",
      "\n",
      "Your result: \n",
      "['x', 1, 'z']\n",
      "True result: \n",
      "['x', 1, 'z']\n",
      "\n",
      "\n",
      "Your result: \n",
      "[]\n",
      "True result: \n",
      "[]\n",
      "\n",
      "(Passed!)\n"
     ]
    }
   ],
   "source": [
    "# Test cell: test_flatten (10 points)\n",
    "\n",
    "L = [['a',['cat'],2],[[[3]],'dog'],4,5]\n",
    "FL = flatten(L)\n",
    "True_L = ['a', 'cat', 2, 3, 'dog', 4, 5]\n",
    "print(\"Your result: \\n{}\".format(FL))\n",
    "print('True result: \\n{}'.format(True_L))\n",
    "assert type(FL) is list and FL == ['a', 'cat', 2, 3, 'dog', 4, 5]\n",
    "print(\"\\n\")\n",
    "\n",
    "L = [[1,[['b'],2],'t',[[3]],'snow'],'x',['hat',7]]\n",
    "FL = flatten(L)\n",
    "True_L = [1, 'b', 2, 't', 3, 'snow', 'x', 'hat', 7]\n",
    "print(\"Your result: \\n{}\".format(FL))\n",
    "print('True result: \\n{}'.format(True_L))\n",
    "assert type(FL) is list and FL == [1, 'b', 2, 't', 3, 'snow', 'x', 'hat', 7]\n",
    "print(\"\\n\")\n",
    "\n",
    "L = ['x',1,'z']\n",
    "FL = flatten(L)\n",
    "True_L = ['x',1,'z']\n",
    "print(\"Your result: \\n{}\".format(FL))\n",
    "print('True result: \\n{}'.format(True_L))\n",
    "assert type(FL) is list and FL == ['x',1,'z']\n",
    "print(\"\\n\")\n",
    "\n",
    "L = []\n",
    "FL = flatten(L)\n",
    "True_L = []\n",
    "print(\"Your result: \\n{}\".format(FL))\n",
    "print('True result: \\n{}'.format(True_L))\n",
    "assert type(FL) is list and FL == []\n",
    "\n",
    "print(\"\\n(Passed!)\")"
   ]
  },
  {
   "cell_type": "markdown",
   "metadata": {},
   "source": [
    "**Fin!** You've reached the end of this problem. Don't forget to restart the kernel and run the entire notebook from top-to-bottom to make sure you did everything correctly. If that is working, try submitting this problem. (Recall that you *must* submit and pass the autograder to get credit for your work!)"
   ]
  }
 ],
 "metadata": {
  "kernelspec": {
   "display_name": "Python 3 [3.6]",
   "language": "python",
   "name": "python3"
  },
  "language_info": {
   "codemirror_mode": {
    "name": "ipython",
    "version": 3
   },
   "file_extension": ".py",
   "mimetype": "text/x-python",
   "name": "python",
   "nbconvert_exporter": "python",
   "pygments_lexer": "ipython3",
   "version": "3.6.4"
  }
 },
 "nbformat": 4,
 "nbformat_minor": 2
}
