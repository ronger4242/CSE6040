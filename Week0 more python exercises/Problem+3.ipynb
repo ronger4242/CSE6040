{
 "cells": [
  {
   "cell_type": "markdown",
   "metadata": {},
   "source": [
    "# Problem 3\n",
    "\n",
    "This problem has a single exercise worth a total of ten (10) points.\n",
    "\n",
    "**Exercise 0** (10 points). Define a function, `UniqueCharacters(s)`, that given a string `s` returns a tuple of two elements: the first element is the number of unique alphabetic characters in the string and the second is the number of unique digits (base-10) in the string.\n",
    "\n",
    "For example, the string `'ewwwffioj122434'` should output the following tuple: `(6, 4)`. The `6` occurs because there are 6 unique letters (`'e'`, `'w'`, `'f'`, `'i'`, `'o'`, and `'j'`) and `4` because there are 4 unique decimal digits (`'1'`,  `'2'`, `'3'`, `'4'`). Special characters may appear in the string but do not count as a letter or number."
   ]
  },
  {
   "cell_type": "code",
   "execution_count": 1,
   "metadata": {
    "collapsed": true
   },
   "outputs": [],
   "source": [
    "def UniqueCharacters(s):\n",
    "    ###\n",
    "    alpha_list = []\n",
    "    num_list = []\n",
    "    for i in s:\n",
    "        if i.isalpha():\n",
    "            alpha_list.append(i)\n",
    "        elif i.isnumeric():\n",
    "            num_list.append(i)\n",
    "    return ((len(set(alpha_list)), len(set(num_list))))\n",
    "    ###\n"
   ]
  },
  {
   "cell_type": "code",
   "execution_count": 2,
   "metadata": {
    "deletable": false,
    "editable": false,
    "nbgrader": {
     "grade": true,
     "grade_id": "UniqueCharacters",
     "locked": true,
     "points": "10",
     "solution": false
    }
   },
   "outputs": [
    {
     "name": "stdout",
     "output_type": "stream",
     "text": [
      "\n",
      "(Passed!)\n"
     ]
    }
   ],
   "source": [
    "# Test Cell: 'UniqueCharacters' (10 points)\n",
    "assert UniqueCharacters('abc123') == (3,3)\n",
    "assert UniqueCharacters('abc') == (3,0)\n",
    "assert UniqueCharacters('aaa') == (1,0)\n",
    "assert UniqueCharacters('aaa111') == (1,1)\n",
    "assert UniqueCharacters('111') == (0,1)\n",
    "assert UniqueCharacters('123') == (0,3)\n",
    "assert UniqueCharacters('') == (0,0)\n",
    "assert UniqueCharacters('///;;;...,????!!!!!###$$$%%%') == (0,0)\n",
    "assert UniqueCharacters('//23bd') == (2,2)\n",
    "assert UniqueCharacters('b2b3n4s4d9') == (4,4)\n",
    "assert UniqueCharacters('9090909p0y90p90y90') == (2,2)\n",
    "assert UniqueCharacters('ieowjfiojfioj2342io4ji') == (6,3)\n",
    "assert UniqueCharacters('ewwwffioj122434') == (6,4)\n",
    "assert UniqueCharacters('dwdj2ru3jf894jgf.,/23,4./3ei8fj2389ej89/,.,./2dd32je98dej89ij') == (9,5)\n",
    "print(\"\\n(Passed!)\")"
   ]
  },
  {
   "cell_type": "markdown",
   "metadata": {},
   "source": [
    "**Fin!** You've reached the end of this problem. Don't forget to restart the\n",
    "kernel and run the entire notebook from top-to-bottom to make sure you did\n",
    "everything correctly. If that is working, try submitting this problem. (Recall\n",
    "that you *must* submit and pass the autograder to get credit for your work!)"
   ]
  }
 ],
 "metadata": {
  "kernelspec": {
   "display_name": "Python 3 [3.6]",
   "language": "python",
   "name": "python3"
  },
  "language_info": {
   "codemirror_mode": {
    "name": "ipython",
    "version": 3
   },
   "file_extension": ".py",
   "mimetype": "text/x-python",
   "name": "python",
   "nbconvert_exporter": "python",
   "pygments_lexer": "ipython3",
   "version": "3.6.4"
  }
 },
 "nbformat": 4,
 "nbformat_minor": 2
}
