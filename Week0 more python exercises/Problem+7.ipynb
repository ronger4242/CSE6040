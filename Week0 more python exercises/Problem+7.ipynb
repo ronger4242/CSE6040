{
 "cells": [
  {
   "cell_type": "markdown",
   "metadata": {
    "nbgrader": {
     "grade": false,
     "locked": false,
     "solution": false
    }
   },
   "source": [
    "# Problem 7\n",
    "\n",
    "**Letter frequencies.** This problem has three (3) exercises worth a total of ten (10) points."
   ]
  },
  {
   "cell_type": "markdown",
   "metadata": {},
   "source": [
    "Letter frequency in text has been studied in cryptoanalysis, in particular frequency analysis. Linguists use letter frequency analysis as a rudimentary technique for language identification, where it's particularly effective as an indicator of whether an unknown writing system is alphabetic, syllablic, or ideographic.\n",
    "\n",
    "Primarily, three different ways exist for letter frequency analysis. Each way generally results in very different charts for common letters. Based on the provided text, the first method is to count letter frequency in root words of a dictionary. The second way is to include all word variants when counting, such as gone, going and goes and not just the root word go. Such a system results in letters like \"s\" appearing much more frequently. The last variant is to count letters based on their frequency in the actual text that is being studied. \n",
    "\n",
    "For more details, refer to the link: \n",
    "https://en.wikipedia.org/wiki/Letter_frequency\n",
    "\n",
    "In this problem, we will focus on the 3rd methodology."
   ]
  },
  {
   "cell_type": "markdown",
   "metadata": {},
   "source": [
    "**Exercise 0** (2 points). First, given a string input, define a function  `preprocess` that returns a string with non-alphabetic characters removed and all the alphabets converted into a lower case. \n",
    "\n",
    "For example, 'We are coding letter Frequency! Yay!\" would be transformed into \"wearecodingletterfrequencyyay\""
   ]
  },
  {
   "cell_type": "code",
   "execution_count": 1,
   "metadata": {
    "collapsed": true
   },
   "outputs": [],
   "source": [
    "def preprocess(S):\n",
    "    ###\n",
    "    return ''.join([i.lower() for i in S if i.isalpha()])\n",
    "    ###\n"
   ]
  },
  {
   "cell_type": "code",
   "execution_count": 3,
   "metadata": {},
   "outputs": [
    {
     "data": {
      "text/plain": [
       "'wearecodingletterfrequencyyay'"
      ]
     },
     "execution_count": 3,
     "metadata": {},
     "output_type": "execute_result"
    }
   ],
   "source": [
    "preprocess(\"We are coding letter Frequency! Yay!\")"
   ]
  },
  {
   "cell_type": "code",
   "execution_count": 2,
   "metadata": {
    "deletable": false,
    "editable": false,
    "nbgrader": {
     "grade": true,
     "grade_id": "valid_string",
     "locked": true,
     "points": "2",
     "solution": false
    }
   },
   "outputs": [
    {
     "name": "stdout",
     "output_type": "stream",
     "text": [
      "Input String:  xg]$M~L0oD|7n7\"&>!@R_l)&BL5jo2K4P(+4~}|E:(a+ZH;ve:0'NU}&J8mrk'QJ}%L&'F2H1{(\"wa=ftmY?+&cUeXRLvv%m:67,\n",
      "|----Your function seems to work correct for the string----|\n",
      "\n",
      "Input String:  7y!A]b9&!9Y?+Q`EdqP1ilXF]`iv}..BNTjif\".j\\@Bqpf\"/JdztigO9F/3`u)MLY2SF>*cCi%CPZ\"5@ObQ*e%,qIOz_`pE;LRJM\n",
      "|----Your function seems to work correct for the string----|\n",
      "\n",
      "Input String:  8ht+\\[:0N1&y3b;%18U-[5X9%]d_;%q.g#WL<6`nsY[@{O/UVJEd\\([khZ]R.\"})p[q!)V]M6`}{(1oMrMvQ~$8.(aKII$k.c.F\\\n",
      "|----Your function seems to work correct for the string----|\n",
      "\n",
      "\n",
      "(Passed)!\n"
     ]
    }
   ],
   "source": [
    "# Test cell: valid_string\n",
    "import random, string\n",
    "\n",
    "N_str = 100 #Length of random string\n",
    "\n",
    "def generate_str(n):\n",
    "    random_str = ''.join(random.choice(string.ascii_lowercase + string.ascii_uppercase + string.digits + string.punctuation) for _ in range(n))\n",
    "    return random_str\n",
    "\n",
    "def check_preprocess_str(n):\n",
    "    random_str = generate_str(n)\n",
    "    print(\"Input String: \",random_str)\n",
    "    assert preprocess(random_str).islower() == True\n",
    "    assert preprocess(random_str).isalpha() == True\n",
    "    print(\"|----Your function seems to work correct for the string----|\"+\"\\n\")\n",
    "\n",
    "check_preprocess_str(N_str)\n",
    "check_preprocess_str(N_str)\n",
    "check_preprocess_str(N_str)\n",
    "\n",
    "print(\"\\n(Passed)!\")"
   ]
  },
  {
   "cell_type": "markdown",
   "metadata": {},
   "source": [
    "**Exercise 1** (4 points). With the necessary pre-processing complete, the next step is to write a function `count_letters(S)` to count the number of occurrences of each letter in the alphabet.  \n",
    "\n",
    "You can assume that only letters will be present in the input string. It should output a dictionary and if any alphabet (a-z) is missing in the input string, it should still be a part of the output dictionary and its corresponding value should be equal to zero.\n"
   ]
  },
  {
   "cell_type": "code",
   "execution_count": 4,
   "metadata": {
    "collapsed": true
   },
   "outputs": [],
   "source": [
    "from collections import defaultdict \n",
    "def count_letters(S):\n",
    "    ###\n",
    "    d = dict.fromkeys(string.ascii_lowercase,0)\n",
    "    S_clean = preprocess(S)\n",
    "    for s in S_clean:\n",
    "        d[s] += 1\n",
    "    return d\n",
    "    ###\n"
   ]
  },
  {
   "cell_type": "code",
   "execution_count": 5,
   "metadata": {
    "deletable": false,
    "editable": false,
    "nbgrader": {
     "grade": true,
     "grade_id": "count_letters",
     "locked": true,
     "points": "4",
     "solution": false
    },
    "scrolled": true
   },
   "outputs": [
    {
     "name": "stdout",
     "output_type": "stream",
     "text": [
      "Input String:  iebcitpudqmwhziklusxtrzrsmpcdvwibwtucjrpjpzbwiwxorweqsegkfrrcwkfnlgdjyiwzcwgnmidchrcscftqiabrxcauqok\n",
      "Character frequency evaluated for:  n\n",
      "|----Your function seems to return correct freq for the char----|\n",
      "\n",
      "Input String:  xggrbypxijrouhupagsqusjgygcsadewficttnchvmevuhvumrnthtrcsqrhrpaxdpfukzcarlaywvcsiuadaxvafcqoezprojyb\n",
      "Character frequency evaluated for:  m\n",
      "|----Your function seems to return correct freq for the char----|\n",
      "\n",
      "Input String:  dconbxganhqmqvebubsrvvernvfgnuopslcpxqkrhfvqaczauhhjdehfitgkivzubtxwrczpobmfgjwqqnsutfovnaauotmhzjzb\n",
      "Character frequency evaluated for:  c\n",
      "|----Your function seems to return correct freq for the char----|\n",
      "\n",
      "\n",
      "(Passed)!\n"
     ]
    }
   ],
   "source": [
    "# Test cell: count_letters\n",
    "import collections\n",
    "\n",
    "N_processed_str = 100\n",
    "\n",
    "def generate_processed_str(n):\n",
    "    random_processed_str = ''.join(random.choice(string.ascii_lowercase) for _ in range(n))\n",
    "    return random_processed_str\n",
    "\n",
    "def check_count_letters(S):\n",
    "    print(\"Input String: \",S)\n",
    "    random_char = chr(random.randint(97,122))\n",
    "    print(\"Character frequency evaluated for: \", random_char)\n",
    "    if(random_char in S):\n",
    "        assert count_letters(S)[random_char] == collections.Counter(S)[random_char]\n",
    "        print(\"|----Your function seems to return correct freq for the char----|\"+\"\\n\")\n",
    "    else:\n",
    "        assert count_letters(S)[random_char] == 0\n",
    "        print(\"|----Your function seems to return correct freq for the char----|\"+\"\\n\")\n",
    "        \n",
    "check_count_letters(generate_processed_str(N_processed_str))\n",
    "check_count_letters(generate_processed_str(N_processed_str))\n",
    "check_count_letters(generate_processed_str(N_processed_str))\n",
    "print(\"\\n(Passed)!\")"
   ]
  },
  {
   "cell_type": "markdown",
   "metadata": {},
   "source": [
    "**Exercise 2** (4 points). The next step is to sort the distribution of a dictionary containing all the letters in the alphabet as keys and number of occurrences in text as associated value. \n",
    "\n",
    "Sorting should be first done in decreasing order by occurrence count and for two elements with same count, the order should be alphabetic. The function  `find_top_letter(d)` should return the 1st character in the order."
   ]
  },
  {
   "cell_type": "code",
   "execution_count": 6,
   "metadata": {
    "collapsed": true
   },
   "outputs": [],
   "source": [
    "def find_top_letter(d):\n",
    "    ###\n",
    "    sorted_dict = sorted(d.items(), key = lambda item: item[1], reverse = True)\n",
    "    return sorted_dict[0][0]\n",
    "    ###\n"
   ]
  },
  {
   "cell_type": "code",
   "execution_count": 7,
   "metadata": {
    "deletable": false,
    "editable": false,
    "nbgrader": {
     "grade": true,
     "grade_id": "highest_freq_letter",
     "locked": true,
     "points": "4",
     "solution": false
    },
    "scrolled": true
   },
   "outputs": [
    {
     "name": "stdout",
     "output_type": "stream",
     "text": [
      "Input Dictionary:  {'a': 4, 'b': 4, 'c': 3, 'd': 0, 'e': 1, 'f': 0, 'g': 4, 'h': 2, 'i': 3, 'j': 2, 'k': 4, 'l': 3, 'm': 2, 'n': 4, 'o': 4, 'p': 1, 'q': 0, 'r': 5, 's': 4, 't': 6, 'u': 3, 'v': 2, 'w': 5, 'x': 6, 'y': 0, 'z': 3}\n",
      "Your function correctly returned most frequent letter: t \n",
      "\n",
      "Input Dictionary:  {'a': 5, 'b': 4, 'c': 10, 'd': 8, 'e': 6, 'f': 6, 'g': 1, 'h': 0, 'i': 0, 'j': 7, 'k': 1, 'l': 1, 'm': 5, 'n': 7, 'o': 9, 'p': 7, 'q': 6, 'r': 8, 's': 1, 't': 2, 'u': 9, 'v': 8, 'w': 11, 'x': 7, 'y': 5, 'z': 11}\n",
      "Your function correctly returned most frequent letter: w \n",
      "\n",
      "Input Dictionary:  {'a': 3, 'b': 0, 'c': 5, 'd': 3, 'e': 5, 'f': 0, 'g': 6, 'h': 0, 'i': 7, 'j': 9, 'k': 7, 'l': 2, 'm': 11, 'n': 7, 'o': 11, 'p': 0, 'q': 10, 'r': 6, 's': 2, 't': 7, 'u': 7, 'v': 7, 'w': 5, 'x': 5, 'y': 6, 'z': 2}\n",
      "Your function correctly returned most frequent letter: m \n",
      "\n",
      "\n",
      "(Passed)!\n"
     ]
    }
   ],
   "source": [
    "# Test cell: highest_freq_letter\n",
    "\n",
    "def create_random_dict():\n",
    "    max_char_value = random.randint(5, 20)\n",
    "    random_dict = {c:random.randint(0,max_char_value-1) for c in string.ascii_lowercase}\n",
    "    random_letter1, random_letter2 = random.sample(string.ascii_lowercase, 2)\n",
    "    random_dict[random_letter1], random_dict[random_letter2] = max_char_value, max_char_value\n",
    "    if(random_letter1 < random_letter2):\n",
    "        return random_letter1, random_dict\n",
    "    else:\n",
    "        return random_letter2, random_dict\n",
    "\n",
    "def check_top_letter():\n",
    "    top_letter, random_dict = create_random_dict()\n",
    "    user_letter = find_top_letter(random_dict)\n",
    "    assert user_letter == top_letter\n",
    "    print(\"Input Dictionary: \", random_dict)\n",
    "    print(\"Your function correctly returned most frequent letter: {} \\n\".format(user_letter))\n",
    "    \n",
    "check_top_letter()\n",
    "check_top_letter()\n",
    "check_top_letter()\n",
    "print(\"\\n(Passed)!\")"
   ]
  },
  {
   "cell_type": "markdown",
   "metadata": {},
   "source": [
    "**Fin!** You've reached the end of this problem. Don't forget to restart the kernel and run the entire notebook from top-to-bottom to make sure you did everything correctly. If that is working, try submitting this problem. (Recall that you *must* submit and pass the autograder to get credit for your work!)"
   ]
  }
 ],
 "metadata": {
  "kernelspec": {
   "display_name": "Python 3 [3.6]",
   "language": "python",
   "name": "python3"
  },
  "language_info": {
   "codemirror_mode": {
    "name": "ipython",
    "version": 3
   },
   "file_extension": ".py",
   "mimetype": "text/x-python",
   "name": "python",
   "nbconvert_exporter": "python",
   "pygments_lexer": "ipython3",
   "version": "3.6.4"
  }
 },
 "nbformat": 4,
 "nbformat_minor": 2
}
