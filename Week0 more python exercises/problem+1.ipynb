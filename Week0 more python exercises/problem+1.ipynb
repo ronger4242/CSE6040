{
 "cells": [
  {
   "cell_type": "markdown",
   "metadata": {},
   "source": [
    "# Problem 1\n",
    "\n",
    "This problem has 2 exercises, worth a total of 10 points."
   ]
  },
  {
   "cell_type": "markdown",
   "metadata": {},
   "source": [
    "**Exercise 0** (2 points).  Write a function, `transform` that takes a string and performs the following operations to it: converts the string to lower case letters only and removes any spaces in the string.\n",
    "\n",
    "> In this problem, \"space\" means only the space character, not other forms of whitespace, such as tabs and newlines.\n",
    "\n",
    "For example:\n",
    "\n",
    "```python\n",
    "  assert transform('Hello, World!') == 'hello,world'\n",
    "```"
   ]
  },
  {
   "cell_type": "code",
   "execution_count": 1,
   "metadata": {},
   "outputs": [
    {
     "name": "stdout",
     "output_type": "stream",
     "text": [
      "hello,world!\n"
     ]
    }
   ],
   "source": [
    "def transform(k):\n",
    "    ###\n",
    "    lower_string = k.lower()\n",
    "    return lower_string.replace(\" \",\"\")\n",
    "    ###\n",
    "    \n",
    "print(transform('Hello, World!'))"
   ]
  },
  {
   "cell_type": "code",
   "execution_count": 2,
   "metadata": {
    "deletable": false,
    "editable": false,
    "nbgrader": {
     "grade": true,
     "grade_id": "test_transform",
     "locked": true,
     "points": "10",
     "solution": false
    }
   },
   "outputs": [
    {
     "name": "stdout",
     "output_type": "stream",
     "text": [
      "\n",
      "(Passed!)\n"
     ]
    }
   ],
   "source": [
    "# Test cell: test_transform\n",
    "\n",
    "assert transform('HELLO').isupper() is False\n",
    "assert transform(' ').isspace() is False\n",
    "assert transform('HeL lO\\ttHe\\nRe') == 'hello\\tthe\\nre'\n",
    "\n",
    "print(\"\\n(Passed!)\")"
   ]
  },
  {
   "cell_type": "markdown",
   "metadata": {},
   "source": [
    "**Exercise 1** (3 + 5 == 8 points).  Write a function, `remove_dups(S)` that takes a list `S` and removes multiple occurrences of any element. The function returns a list with only one occurrence of each element.\n",
    "\n",
    "For example, `remove_dups(['cat', 'dog', 'sheep', 'dog'])` would return `['cat', 'dog', 'sheep']`.\n",
    "\n",
    "This exercise has two test cells. The first checks that your implementation returns the right answer. The second tests your solution on a large list. To get full credit, your implementation must take less than a certain amount of time!"
   ]
  },
  {
   "cell_type": "code",
   "execution_count": 3,
   "metadata": {
    "collapsed": true,
    "nbgrader": {
     "grade": false,
     "grade_id": "test_remove_dups",
     "locked": false,
     "points": "5",
     "solution": false
    }
   },
   "outputs": [],
   "source": [
    "def remove_dups(S):\n",
    "###\n",
    "    S_1 = []\n",
    "    for i in S:\n",
    "        if i not in S_1:\n",
    "            S_1.append(i)\n",
    "    return S_1\n",
    "###\n"
   ]
  },
  {
   "cell_type": "code",
   "execution_count": 4,
   "metadata": {
    "collapsed": true
   },
   "outputs": [],
   "source": [
    "def remove_dups(S):\n",
    "###\n",
    "    return list(set(S))\n",
    "###"
   ]
  },
  {
   "cell_type": "code",
   "execution_count": 5,
   "metadata": {
    "deletable": false,
    "editable": false,
    "nbgrader": {
     "grade": true,
     "grade_id": "test_remove_dups_correct",
     "locked": true,
     "points": "3",
     "solution": false
    }
   },
   "outputs": [
    {
     "name": "stdout",
     "output_type": "stream",
     "text": [
      "\n",
      "(Passed!)\n"
     ]
    }
   ],
   "source": [
    "# Test cell: test_remove_dups_correct\n",
    "listA = ['cat', 'dog', 'sheep', 'dog']\n",
    "listB = [1,2,3,4,3,2,1,5]\n",
    "\n",
    "assert isinstance(remove_dups(listA), list)\n",
    "\n",
    "your_listA = remove_dups(listA)\n",
    "assert len(remove_dups(listA)) == 3 and set(your_listA) == {'cat', 'dog', 'sheep'}\n",
    "your_listB = remove_dups(listB)\n",
    "assert len(remove_dups(listB)) == 5 and set(your_listB) == set(range(1,6))\n",
    "\n",
    "print(\"\\n(Passed!)\")"
   ]
  },
  {
   "cell_type": "code",
   "execution_count": 6,
   "metadata": {
    "deletable": false,
    "editable": false,
    "nbgrader": {
     "grade": true,
     "grade_id": "test_remove_dups_fast",
     "locked": true,
     "points": "5",
     "solution": false
    }
   },
   "outputs": [
    {
     "name": "stdout",
     "output_type": "stream",
     "text": [
      "695 µs ± 5.94 µs per loop (mean ± std. dev. of 7 runs, 1000 loops each)\n"
     ]
    }
   ],
   "source": [
    "# Test cell: test_remove_dups_fast\n",
    "\n",
    "from random import sample\n",
    "large_list = sample(range(1000000000), 10000)\n",
    "timing = %timeit -o remove_dups(large_list)\n",
    "assert timing.average < 1e-2 # 10 ms time limit for 10,000 elements"
   ]
  },
  {
   "cell_type": "markdown",
   "metadata": {},
   "source": [
    "**Fin!** You've reached the end of this problem. Don't forget to restart the\n",
    "kernel and run the entire notebook from top-to-bottom to make sure you did\n",
    "everything correctly. If that is working, try submitting this problem. (Recall\n",
    "that you *must* submit and pass the autograder to get credit for your work!)"
   ]
  }
 ],
 "metadata": {
  "kernelspec": {
   "display_name": "Python 3 [3.6]",
   "language": "python",
   "name": "python3"
  },
  "language_info": {
   "codemirror_mode": {
    "name": "ipython",
    "version": 3
   },
   "file_extension": ".py",
   "mimetype": "text/x-python",
   "name": "python",
   "nbconvert_exporter": "python",
   "pygments_lexer": "ipython3",
   "version": "3.6.4"
  }
 },
 "nbformat": 4,
 "nbformat_minor": 2
}
